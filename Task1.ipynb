{
 "cells": [
  {
   "cell_type": "markdown",
   "metadata": {
    "id": "PhxKOatSFc7Q"
   },
   "source": [
    "## **Task 1**"
   ]
  },
  {
   "cell_type": "code",
   "execution_count": 1,
   "metadata": {
    "colab": {
     "base_uri": "https://localhost:8080/"
    },
    "executionInfo": {
     "elapsed": 24461,
     "status": "ok",
     "timestamp": 1639921853937,
     "user": {
      "displayName": "Wiebke Freitag",
      "photoUrl": "https://lh3.googleusercontent.com/a/default-user=s64",
      "userId": "17950908629355871951"
     },
     "user_tz": -60
    },
    "id": "5pLeXRCDFnCu",
    "outputId": "c3f46bf9-1af4-4532-a468-1ae3c642178a"
   },
   "outputs": [
    {
     "ename": "ModuleNotFoundError",
     "evalue": "No module named 'google.colab'",
     "output_type": "error",
     "traceback": [
      "\u001b[0;31m---------------------------------------------------------------------------\u001b[0m",
      "\u001b[0;31mModuleNotFoundError\u001b[0m                       Traceback (most recent call last)",
      "\u001b[0;32m/var/folders/3j/p9hfvsdd7n91pt1lfpjjly3r0000gn/T/ipykernel_7772/2904556463.py\u001b[0m in \u001b[0;36m<module>\u001b[0;34m\u001b[0m\n\u001b[1;32m      1\u001b[0m \u001b[0;31m# to access google drive folder\u001b[0m\u001b[0;34m\u001b[0m\u001b[0;34m\u001b[0m\u001b[0m\n\u001b[0;32m----> 2\u001b[0;31m \u001b[0;32mfrom\u001b[0m \u001b[0mgoogle\u001b[0m\u001b[0;34m.\u001b[0m\u001b[0mcolab\u001b[0m \u001b[0;32mimport\u001b[0m \u001b[0mdrive\u001b[0m\u001b[0;34m\u001b[0m\u001b[0;34m\u001b[0m\u001b[0m\n\u001b[0m\u001b[1;32m      3\u001b[0m \u001b[0mdrive\u001b[0m\u001b[0;34m.\u001b[0m\u001b[0mmount\u001b[0m\u001b[0;34m(\u001b[0m\u001b[0;34m'/content/drive'\u001b[0m\u001b[0;34m)\u001b[0m\u001b[0;34m\u001b[0m\u001b[0;34m\u001b[0m\u001b[0m\n\u001b[1;32m      4\u001b[0m \u001b[0;34m\u001b[0m\u001b[0m\n\u001b[1;32m      5\u001b[0m \u001b[0;32mimport\u001b[0m \u001b[0mnumpy\u001b[0m \u001b[0;32mas\u001b[0m \u001b[0mnp\u001b[0m\u001b[0;34m\u001b[0m\u001b[0;34m\u001b[0m\u001b[0m\n",
      "\u001b[0;31mModuleNotFoundError\u001b[0m: No module named 'google.colab'"
     ]
    }
   ],
   "source": [
    "# to access google drive folder\n",
    "from google.colab import drive\n",
    "drive.mount('/content/drive')\n",
    "\n",
    "import numpy as np\n",
    "\n",
    "train_X = np.load(\"/content/drive/MyDrive/CSC3831/train_x.npy\", allow_pickle=True)\n",
    "train_y = np.load(\"/content/drive/MyDrive/CSC3831/train_y.npy\", allow_pickle=True)\n",
    "\n",
    "validate_X = np.load(\"/content/drive/MyDrive/CSC3831/valid_x.npy\", allow_pickle=True)\n",
    "validate_y = np.load(\"/content/drive/MyDrive/CSC3831/valid_y.npy\", allow_pickle=True)\n",
    "\n",
    "test_x = np.load(\"/content/drive/MyDrive/CSC3831/test_x.npy\", allow_pickle=True)\n",
    "test_y = np.load(\"/content/drive/MyDrive/CSC3831/test_y.npy\", allow_pickle=True)\n"
   ]
  },
  {
   "cell_type": "code",
   "execution_count": 2,
   "metadata": {
    "executionInfo": {
     "elapsed": 202,
     "status": "ok",
     "timestamp": 1639923751567,
     "user": {
      "displayName": "Wiebke Freitag",
      "photoUrl": "https://lh3.googleusercontent.com/a/default-user=s64",
      "userId": "17950908629355871951"
     },
     "user_tz": -60
    },
    "id": "4gZUdbeUFu8n"
   },
   "outputs": [],
   "source": [
    "import matplotlib.pyplot as plt\n",
    "\n",
    "def image_normalization(arr):\n",
    "    return (arr - arr.min())/(arr.max()-arr.min())\n",
    "\n",
    "def disable_ax_ticks(ax):\n",
    "    ax.set_xticks([])\n",
    "    ax.set_xticks([], minor=True)\n",
    "    ax.set_yticks([])\n",
    "    ax.set_yticks([], minor=True)\n",
    "\n",
    "def show_mnist_examples(x, y):\n",
    "    fig = plt.figure(constrained_layout=True,figsize=(12,9), dpi=100)\n",
    "    gs = fig.add_gridspec(3,4)\n",
    "    main_ax = fig.add_subplot(gs[:3,:3])\n",
    "    fig.suptitle(y)\n",
    "    #main_ax.imshow(np.moveaxis(x, 0, -1))# .imshow(x)\n",
    "    main_ax.imshow(image_normalization(np.moveaxis(x, 0, -1)))\n",
    "    disable_ax_ticks(main_ax)\n",
    "\n",
    "    for j in range(3):\n",
    "      c_ax = fig.add_subplot(gs[j,-1])\n",
    "      subimage = x.copy()\n",
    "      subimage[:j] = 0\n",
    "      subimage[j+1:] = 0\n",
    "      subimage[j] = subimage[j]-subimage[j].min()\n",
    "      c_ax.imshow(image_normalization(np.moveaxis(subimage, 0, -1)))\n",
    "      disable_ax_ticks(c_ax)\n",
    "    plt.show()\n",
    "\n",
    "# separating the color channels and reprocessing subimages\n",
    "def separate_image(image):\n",
    "  subimage_A = image[0]\n",
    "  subimage_B = image[1]\n",
    "  subimage_C = image[2]\n",
    "\n",
    "  subimage_A = preprocess_image(subimage_A)\n",
    "  subimage_B = preprocess_image(subimage_B)\n",
    "  subimage_C = preprocess_image(subimage_C)\n",
    "\n",
    "  return subimage_A, subimage_B, subimage_C\n",
    "\n",
    "# scale to [0, 1] and reshape to (28, 28, 1)\n",
    "def preprocess_model_data(image):\n",
    "  image = image.astype(\"float32\") / 255\n",
    "  return np.expand_dims(image, -1)\n",
    "\n",
    "# normalize and reshape to (28, 28, 1)\n",
    "def preprocess_image(image):\n",
    "  image = image_normalization(image)\n",
    "  return np.expand_dims(image, -1)\n"
   ]
  },
  {
   "cell_type": "markdown",
   "metadata": {
    "id": "LzE5h4NzjuPP"
   },
   "source": [
    "# Pre-processing the data for training the model"
   ]
  },
  {
   "cell_type": "code",
   "execution_count": 7,
   "metadata": {
    "executionInfo": {
     "elapsed": 904,
     "status": "ok",
     "timestamp": 1639924173265,
     "user": {
      "displayName": "Wiebke Freitag",
      "photoUrl": "https://lh3.googleusercontent.com/a/default-user=s64",
      "userId": "17950908629355871951"
     },
     "user_tz": -60
    },
    "id": "IX36V0ouj5ez"
   },
   "outputs": [],
   "source": [
    "import numpy as np\n",
    "from tensorflow import keras\n",
    "from tensorflow.keras import layers\n",
    "from tensorflow.keras.datasets import mnist\n",
    "from tensorflow.keras.layers import Conv2D\n",
    "from tensorflow.keras.layers import MaxPooling2D\n",
    "from tensorflow.keras.layers import Flatten\n",
    "from tensorflow.keras.layers import Dense\n",
    "\n",
    "# Model / data parameters\n",
    "num_classes = 10\n",
    "input_shape = (28, 28, 1)\n",
    "\n",
    "batch_size = 128\n",
    "epochs = 15\n",
    "\n",
    "# load the data, split between train, validate and test sets\n",
    "(x_model_train_org, y_model_train_org), (x_model_validate, y_model_validate) = mnist.load_data(\"mnist.npz\")\n",
    "\n",
    "number_test = round(x_model_train_org.shape[0] * 5/6)\n",
    "x_model_train = x_model_train_org[:number_test]\n",
    "y_model_train = y_model_train_org[:number_test]\n",
    "\n",
    "x_model_test = x_model_train_org[number_test:]\n",
    "y_model_test = y_model_train_org[number_test:]\n",
    "\n",
    "x_model_train = preprocess_image(x_model_train)\n",
    "x_model_validate = preprocess_image(x_model_validate)\n",
    "x_model_test = preprocess_image(x_model_test)\n",
    "\n",
    "# convert class vectors to one-hot-encoding\n",
    "y_model_train = keras.utils.to_categorical(y_model_train, num_classes)\n",
    "y_model_validate = keras.utils.to_categorical(y_model_validate, num_classes)\n",
    "y_model_test = keras.utils.to_categorical(y_model_test, num_classes)"
   ]
  },
  {
   "cell_type": "markdown",
   "metadata": {
    "id": "lXHl7gPBm46U"
   },
   "source": [
    "# Model 1"
   ]
  },
  {
   "cell_type": "code",
   "execution_count": 11,
   "metadata": {
    "colab": {
     "base_uri": "https://localhost:8080/"
    },
    "executionInfo": {
     "elapsed": 146642,
     "status": "ok",
     "timestamp": 1639924378353,
     "user": {
      "displayName": "Wiebke Freitag",
      "photoUrl": "https://lh3.googleusercontent.com/a/default-user=s64",
      "userId": "17950908629355871951"
     },
     "user_tz": -60
    },
    "id": "28lU4164nCLj",
    "outputId": "d94a44b3-0cbc-44e6-fa16-25e46f1a2499"
   },
   "outputs": [
    {
     "name": "stdout",
     "output_type": "stream",
     "text": [
      "Model: \"sequential\"\n",
      "_________________________________________________________________\n",
      " Layer (type)                Output Shape              Param #   \n",
      "=================================================================\n",
      " conv2d (Conv2D)             (None, 28, 28, 28)        280       \n",
      "                                                                 \n",
      " conv2d_1 (Conv2D)           (None, 28, 28, 28)        7084      \n",
      "                                                                 \n",
      " max_pooling2d (MaxPooling2D  (None, 14, 14, 28)       0         \n",
      " )                                                               \n",
      "                                                                 \n",
      " flatten (Flatten)           (None, 5488)              0         \n",
      "                                                                 \n",
      " dense (Dense)               (None, 256)               1405184   \n",
      "                                                                 \n",
      " dense_1 (Dense)             (None, 128)               32896     \n",
      "                                                                 \n",
      " dense_2 (Dense)             (None, 10)                1290      \n",
      "                                                                 \n",
      "=================================================================\n",
      "Total params: 1,446,734\n",
      "Trainable params: 1,446,734\n",
      "Non-trainable params: 0\n",
      "_________________________________________________________________\n",
      "Model: \"sequential\"\n",
      "_________________________________________________________________\n",
      " Layer (type)                Output Shape              Param #   \n",
      "=================================================================\n",
      " conv2d (Conv2D)             (None, 28, 28, 28)        280       \n",
      "                                                                 \n",
      " conv2d_1 (Conv2D)           (None, 28, 28, 28)        7084      \n",
      "                                                                 \n",
      " max_pooling2d (MaxPooling2D  (None, 14, 14, 28)       0         \n",
      " )                                                               \n",
      "                                                                 \n",
      " flatten (Flatten)           (None, 5488)              0         \n",
      "                                                                 \n",
      " dense (Dense)               (None, 256)               1405184   \n",
      "                                                                 \n",
      " dense_1 (Dense)             (None, 128)               32896     \n",
      "                                                                 \n",
      " dense_2 (Dense)             (None, 10)                1290      \n",
      "                                                                 \n",
      "=================================================================\n",
      "Total params: 1,446,734\n",
      "Trainable params: 1,446,734\n",
      "Non-trainable params: 0\n",
      "_________________________________________________________________\n",
      "Epoch 1/15\n",
      "391/391 [==============================] - 18s 14ms/step - loss: 0.1862 - accuracy: 0.9432 - val_loss: 0.0566 - val_accuracy: 0.9809\n",
      "Epoch 2/15\n",
      "391/391 [==============================] - 5s 13ms/step - loss: 0.0485 - accuracy: 0.9842 - val_loss: 0.0456 - val_accuracy: 0.9857\n",
      "Epoch 3/15\n",
      "391/391 [==============================] - 5s 13ms/step - loss: 0.0289 - accuracy: 0.9908 - val_loss: 0.0357 - val_accuracy: 0.9880\n",
      "Epoch 4/15\n",
      "391/391 [==============================] - 5s 14ms/step - loss: 0.0186 - accuracy: 0.9942 - val_loss: 0.0408 - val_accuracy: 0.9877\n",
      "Epoch 5/15\n",
      "391/391 [==============================] - 5s 13ms/step - loss: 0.0144 - accuracy: 0.9955 - val_loss: 0.0434 - val_accuracy: 0.9861\n",
      "Epoch 6/15\n",
      "391/391 [==============================] - 5s 13ms/step - loss: 0.0135 - accuracy: 0.9957 - val_loss: 0.0452 - val_accuracy: 0.9858\n",
      "Epoch 7/15\n",
      "391/391 [==============================] - 5s 13ms/step - loss: 0.0108 - accuracy: 0.9962 - val_loss: 0.0385 - val_accuracy: 0.9885\n",
      "Epoch 8/15\n",
      "391/391 [==============================] - 5s 13ms/step - loss: 0.0072 - accuracy: 0.9976 - val_loss: 0.0363 - val_accuracy: 0.9897\n",
      "Epoch 9/15\n",
      "391/391 [==============================] - 5s 13ms/step - loss: 0.0070 - accuracy: 0.9978 - val_loss: 0.0364 - val_accuracy: 0.9896\n",
      "Epoch 10/15\n",
      "391/391 [==============================] - 5s 13ms/step - loss: 0.0045 - accuracy: 0.9985 - val_loss: 0.0499 - val_accuracy: 0.9874\n",
      "Epoch 11/15\n",
      "391/391 [==============================] - 5s 13ms/step - loss: 0.0068 - accuracy: 0.9978 - val_loss: 0.0515 - val_accuracy: 0.9874\n",
      "Epoch 12/15\n",
      "391/391 [==============================] - 5s 13ms/step - loss: 0.0082 - accuracy: 0.9973 - val_loss: 0.0469 - val_accuracy: 0.9893\n",
      "Epoch 13/15\n",
      "391/391 [==============================] - 5s 13ms/step - loss: 0.0051 - accuracy: 0.9984 - val_loss: 0.0437 - val_accuracy: 0.9895\n",
      "Epoch 14/15\n",
      "391/391 [==============================] - 5s 14ms/step - loss: 0.0026 - accuracy: 0.9992 - val_loss: 0.0418 - val_accuracy: 0.9903\n",
      "Epoch 15/15\n",
      "391/391 [==============================] - 5s 13ms/step - loss: 0.0069 - accuracy: 0.9977 - val_loss: 0.0414 - val_accuracy: 0.9896\n",
      "79/79 [==============================] - 1s 7ms/step - loss: 0.0599 - accuracy: 0.9884\n"
     ]
    }
   ],
   "source": [
    "model = keras.Sequential() \n",
    "model.add(Conv2D(28, (3, 3), activation='relu', padding='same', input_shape=input_shape)) \n",
    "model.add(Conv2D(28, (3, 3), activation='relu', padding='same')) \n",
    "model.add(MaxPooling2D((2, 2)))\n",
    "model.add(Flatten())\n",
    "model.add(Dense(256, activation='relu'))\n",
    "model.add(Dense(128, activation='relu'))\n",
    "model.add(Dense(num_classes, activation='softmax'))\n",
    "\n",
    "model.summary()\n",
    "\n",
    "model.compile(loss=\"categorical_crossentropy\", optimizer=\"adam\", metrics=[\"accuracy\"])\n",
    "model.summary()\n",
    "\n",
    "history = model.fit(x_model_train, y_model_train, batch_size=batch_size, epochs=epochs, validation_data=(x_model_validate,y_model_validate))\n",
    "results = model.evaluate(x_model_test, y_model_test, batch_size=batch_size)"
   ]
  },
  {
   "cell_type": "markdown",
   "metadata": {
    "id": "zQSntMUNm7_R"
   },
   "source": [
    "# Model 2"
   ]
  },
  {
   "cell_type": "code",
   "execution_count": 12,
   "metadata": {
    "colab": {
     "base_uri": "https://localhost:8080/"
    },
    "executionInfo": {
     "elapsed": 144369,
     "status": "ok",
     "timestamp": 1639924628666,
     "user": {
      "displayName": "Wiebke Freitag",
      "photoUrl": "https://lh3.googleusercontent.com/a/default-user=s64",
      "userId": "17950908629355871951"
     },
     "user_tz": -60
    },
    "id": "UOovgXuvqOvb",
    "outputId": "b499798d-9c7f-492f-942f-dcfa133b75ba"
   },
   "outputs": [
    {
     "name": "stdout",
     "output_type": "stream",
     "text": [
      "Model: \"sequential_1\"\n",
      "_________________________________________________________________\n",
      " Layer (type)                Output Shape              Param #   \n",
      "=================================================================\n",
      " conv2d_2 (Conv2D)           (None, 28, 28, 28)        280       \n",
      "                                                                 \n",
      " conv2d_3 (Conv2D)           (None, 28, 28, 28)        7084      \n",
      "                                                                 \n",
      " flatten_1 (Flatten)         (None, 21952)             0         \n",
      "                                                                 \n",
      " dense_3 (Dense)             (None, 128)               2809984   \n",
      "                                                                 \n",
      " dense_4 (Dense)             (None, 10)                1290      \n",
      "                                                                 \n",
      "=================================================================\n",
      "Total params: 2,818,638\n",
      "Trainable params: 2,818,638\n",
      "Non-trainable params: 0\n",
      "_________________________________________________________________\n",
      "Epoch 1/15\n",
      "391/391 [==============================] - 6s 15ms/step - loss: 0.1741 - accuracy: 0.9490 - val_loss: 0.0654 - val_accuracy: 0.9801\n",
      "Epoch 2/15\n",
      "391/391 [==============================] - 5s 14ms/step - loss: 0.0501 - accuracy: 0.9844 - val_loss: 0.0582 - val_accuracy: 0.9838\n",
      "Epoch 3/15\n",
      "391/391 [==============================] - 5s 14ms/step - loss: 0.0270 - accuracy: 0.9913 - val_loss: 0.0525 - val_accuracy: 0.9853\n",
      "Epoch 4/15\n",
      "391/391 [==============================] - 6s 14ms/step - loss: 0.0165 - accuracy: 0.9947 - val_loss: 0.0551 - val_accuracy: 0.9849\n",
      "Epoch 5/15\n",
      "391/391 [==============================] - 6s 14ms/step - loss: 0.0108 - accuracy: 0.9967 - val_loss: 0.0571 - val_accuracy: 0.9865\n",
      "Epoch 6/15\n",
      "391/391 [==============================] - 6s 15ms/step - loss: 0.0080 - accuracy: 0.9972 - val_loss: 0.0746 - val_accuracy: 0.9839\n",
      "Epoch 7/15\n",
      "391/391 [==============================] - 7s 17ms/step - loss: 0.0081 - accuracy: 0.9973 - val_loss: 0.0542 - val_accuracy: 0.9875\n",
      "Epoch 8/15\n",
      "391/391 [==============================] - 6s 16ms/step - loss: 0.0071 - accuracy: 0.9975 - val_loss: 0.0648 - val_accuracy: 0.9857\n",
      "Epoch 9/15\n",
      "391/391 [==============================] - 6s 16ms/step - loss: 0.0042 - accuracy: 0.9985 - val_loss: 0.0677 - val_accuracy: 0.9867\n",
      "Epoch 10/15\n",
      "391/391 [==============================] - 6s 15ms/step - loss: 0.0015 - accuracy: 0.9996 - val_loss: 0.0714 - val_accuracy: 0.9886\n",
      "Epoch 11/15\n",
      "391/391 [==============================] - 6s 14ms/step - loss: 0.0037 - accuracy: 0.9988 - val_loss: 0.0981 - val_accuracy: 0.9786\n",
      "Epoch 12/15\n",
      "391/391 [==============================] - 5s 13ms/step - loss: 0.0064 - accuracy: 0.9976 - val_loss: 0.0732 - val_accuracy: 0.9877\n",
      "Epoch 13/15\n",
      "391/391 [==============================] - 5s 14ms/step - loss: 0.0041 - accuracy: 0.9986 - val_loss: 0.0730 - val_accuracy: 0.9880\n",
      "Epoch 14/15\n",
      "391/391 [==============================] - 6s 14ms/step - loss: 0.0024 - accuracy: 0.9992 - val_loss: 0.0753 - val_accuracy: 0.9878\n",
      "Epoch 15/15\n",
      "391/391 [==============================] - 5s 14ms/step - loss: 0.0055 - accuracy: 0.9981 - val_loss: 0.0722 - val_accuracy: 0.9878\n",
      "79/79 [==============================] - 1s 8ms/step - loss: 0.0722 - accuracy: 0.9878\n"
     ]
    }
   ],
   "source": [
    "model = keras.Sequential() \n",
    "model.add(Conv2D(28, (3, 3), activation='relu', padding='same', input_shape=(28, 28, 1))) \n",
    "model.add(Conv2D(28, (3, 3), activation='relu', padding='same')) \n",
    "model.add(Flatten())  \n",
    "model.add(Dense(128, activation='relu')) \n",
    "model.add(Dense(10, activation='softmax'))\n",
    "\n",
    "model.summary()\n",
    "\n",
    "batch_size = 128\n",
    "epochs = 15\n",
    "\n",
    "model.compile(loss=\"categorical_crossentropy\", optimizer=\"adam\", metrics=[\"accuracy\"])\n",
    "\n",
    "history = model.fit(x_model_train, y_model_train, batch_size=batch_size, epochs=epochs, validation_data=(x_model_test,y_model_test))\n",
    "\n",
    "results = model.evaluate(x_model_test, y_model_test, batch_size=batch_size)"
   ]
  },
  {
   "cell_type": "markdown",
   "metadata": {
    "id": "jlmZTjGIm-b_"
   },
   "source": [
    "# Model 3"
   ]
  },
  {
   "cell_type": "code",
   "execution_count": null,
   "metadata": {
    "id": "b-qriLo8nAkt"
   },
   "outputs": [],
   "source": [
    "model = keras.Sequential() \n",
    "model.add(Conv2D(28, (3, 3), activation='relu', padding='same', input_shape=(28, 28, 1))) \n",
    "model.add(Conv2D(28, (3, 3), activation='relu', padding='same')) \n",
    "model.add(MaxPooling2D((2, 2))) \n",
    "model.add(Flatten())\n",
    "model.add(Dense(128, activation='relu')) \n",
    "model.add(Dense(10, activation='softmax'))\n",
    "\n",
    "model.summary()\n",
    "\n",
    "model.compile(loss=\"categorical_crossentropy\", optimizer=\"adam\", metrics=[\"accuracy\"])\n",
    "\n",
    "history = model.fit(x_model_train, y_model_train, batch_size=batch_size, epochs=epochs, validation_data=(x_model_test,y_\n",
    "                                                                                                         \n",
    "results = model.evaluate(x_model_test, y_model_test, batch_size=batch_size)model_test))"
   ]
  },
  {
   "cell_type": "markdown",
   "metadata": {
    "id": "e01y2fDxN_lo"
   },
   "source": [
    "# Predict output for given images"
   ]
  },
  {
   "cell_type": "code",
   "execution_count": null,
   "metadata": {
    "id": "zSm_dBltGlfH"
   },
   "outputs": [],
   "source": [
    "from random import randint \n",
    "\n",
    "iterations = 6\n",
    "trace = []\n",
    "\n",
    "for i  in range(iterations):\n",
    "  correct_predictions = 0\n",
    "  rounds = 1000\n",
    "\n",
    "  for index in range(rounds):\n",
    "    choice = randint(0,train_X.shape[0]-1)\n",
    "    a, b, c = separate_image(train_X[choice])\n",
    "    pred_A = model.predict(a.reshape(1, 28, 28, 1))\n",
    "    pred_B = model.predict(b.reshape(1, 28, 28, 1))\n",
    "    pred_C = model.predict(c.reshape(1, 28, 28, 1))\n",
    "    if pred_A.argmax() + pred_B.argmax() + pred_C.argmax() - 1 == train_y[choice]:\n",
    "      correct_predictions += 1\n",
    "\n",
    "  print(\"{}/{} in {} seconds\".format(i, iterations))\n",
    "  print(\"correct predictions for\", correct_predictions, \"of\", rounds, \"tests\")\n"
   ]
  }
 ],
 "metadata": {
  "accelerator": "GPU",
  "colab": {
   "authorship_tag": "ABX9TyPidVm0l7mpwoDywhLYJ5sX",
   "collapsed_sections": [],
   "name": "Task1.ipynb",
   "provenance": []
  },
  "kernelspec": {
   "display_name": "Python 3 (ipykernel)",
   "language": "python",
   "name": "python3"
  },
  "language_info": {
   "codemirror_mode": {
    "name": "ipython",
    "version": 3
   },
   "file_extension": ".py",
   "mimetype": "text/x-python",
   "name": "python",
   "nbconvert_exporter": "python",
   "pygments_lexer": "ipython3",
   "version": "3.9.7"
  }
 },
 "nbformat": 4,
 "nbformat_minor": 1
}
